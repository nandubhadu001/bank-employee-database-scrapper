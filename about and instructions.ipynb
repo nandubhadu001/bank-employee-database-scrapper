{
 "cells": [
  {
   "cell_type": "markdown",
   "metadata": {},
   "source": [
    "### this code for scrappes sbi employee database\n",
    "STEP 1 : to scrap database simply run app.py file in a terminal\n",
    "\n",
    "STEP 2 : start scrapping using start button in ui\n",
    "<img src=\"assets/start.png\" alt=\"Drawing\" style=\"width: 300px;\"/>\n",
    "\n",
    "STEP 3 : fill the catcha and hit enter\n",
    "<img src=\"assets/captch.png\" alt=\"Drawing\" style=\"width: 300px;\"/>\n",
    "\n",
    "STEP 4 : keep filling the captch till you get Scrapping done message\n",
    "<img src=\"assets/done.png\" alt=\"Drawing\" style=\"width: 300px;\"/>\n",
    "\n",
    "STEP 5 : all csv files are saved in data folder to combine in one file press \"create one csv\" or just exit\n"
   ]
  },
  {
   "cell_type": "markdown",
   "metadata": {},
   "source": [
    "# Required liberary ( > python3)\n",
    "\n",
    " 1. from  io import BytesIO\n",
    " 2. from time import time\n",
    " 3. from requests import get,post\n",
    " 4. from tkinter import *\n",
    " 6. from bs4 import BeautifulSoup\n",
    " 7. import re\n",
    " 8. import pandas\n",
    " 9. import os"
   ]
  },
  {
   "cell_type": "markdown",
   "metadata": {},
   "source": [
    "working and defination of each function used are explained in example.ipynb  \n",
    "module scrapper contain all functions and can be directly used in any script"
   ]
  }
 ],
 "metadata": {
  "kernelspec": {
   "display_name": "Python 3",
   "language": "python",
   "name": "python3"
  },
  "language_info": {
   "codemirror_mode": {
    "name": "ipython",
    "version": 3
   },
   "file_extension": ".py",
   "mimetype": "text/x-python",
   "name": "python",
   "nbconvert_exporter": "python",
   "pygments_lexer": "ipython3",
   "version": "3.8.2"
  }
 },
 "nbformat": 4,
 "nbformat_minor": 4
}
